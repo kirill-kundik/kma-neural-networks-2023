{
 "cells": [
  {
   "cell_type": "markdown",
   "id": "0aafd500-4e6c-4f54-86fb-0e000bd06dcc",
   "metadata": {},
   "source": [
    "# Створення базових моделей"
   ]
  },
  {
   "cell_type": "markdown",
   "id": "6c115768-b336-4a31-b9eb-3ec88520226a",
   "metadata": {},
   "source": [
    "**Частина 1**\n",
    "\n",
    "Необхідно визначити в коді натупне:\n",
    "\n",
    "1. Базову модель для навчання (виберіть який тип моделі хочете натренувати CNN, MLP тощо).\n",
    "2. Початкову кількість шарів та їх параметри.\n",
    "3. Функції для тренування та валідації, візуалізації результатів, фінкцію втрат та метрику перевірки результатів.\n",
    "4. Натренуйте модель і перевірте результат. Яке значення функції втрат, яка метрика вашої моделі після навчання? Візуалізуйте графіки навчання. Скільки часу потрібно було на тренування?\n",
    "\n",
    "**Частина 2**\n",
    "\n",
    "1. Опишіть гіперпараметри моделі: кількість шарів/кількість нейронів в шарах, різні їх комбінації.\n",
    "2. Підберіть та перевірте найкращі гіперпараметри вашої моделі за яких метрика під час валідації буде найвищою. Скільки часу потрібно було на підбір гіперпараметрів моделі?\n",
    "3. Продемонструйте на яких класах та зображеннях найчастіше помиляється найкраща модель.\n",
    "4. Візуалізувати графіки залежностей між гіперпараметрами найкращої моделі і змінами значень її метрики."
   ]
  },
  {
   "cell_type": "code",
   "execution_count": 1,
   "id": "649ad8f7-0681-4ee0-aede-f9fce7035c0b",
   "metadata": {},
   "outputs": [],
   "source": [
    "import matplotlib.pyplot as plt\n",
    "\n",
    "import torch\n",
    "import torch.nn as nn\n",
    "import torch.nn.functional as F\n",
    "\n",
    "import torchvision.transforms as transforms\n",
    "\n",
    "from torch.utils.data import DataLoader\n",
    "\n",
    "from torchvision.datasets import FashionMNIST"
   ]
  },
  {
   "cell_type": "code",
   "execution_count": 2,
   "id": "5a8121b7-3c63-4718-9a4c-fa08de5b57eb",
   "metadata": {},
   "outputs": [],
   "source": [
    "device = torch.device('cuda') if torch.cuda.is_available() else torch.device('cpu')"
   ]
  },
  {
   "cell_type": "code",
   "execution_count": 3,
   "id": "bcb8e3ba-17b0-45d5-b5d4-8d7b6b8fc023",
   "metadata": {},
   "outputs": [],
   "source": [
    "transform = transforms.Compose([transforms.ToTensor()])"
   ]
  },
  {
   "cell_type": "code",
   "execution_count": 4,
   "id": "277ae300-6567-4c53-ab29-079e0d479c29",
   "metadata": {},
   "outputs": [],
   "source": [
    "datasets_path = './datasets'"
   ]
  },
  {
   "cell_type": "code",
   "execution_count": 5,
   "id": "14d0f45f-baeb-42ed-bcec-dcd32bfe6269",
   "metadata": {},
   "outputs": [],
   "source": [
    "train_dataset = FashionMNIST(\n",
    "    datasets_path,\n",
    "    train=True,\n",
    "    download=True,\n",
    "    transform=transform\n",
    ")"
   ]
  },
  {
   "cell_type": "code",
   "execution_count": 6,
   "id": "8d5f0cf9-e6f6-43ea-b230-5af7d7bc44db",
   "metadata": {},
   "outputs": [],
   "source": [
    "validation_dataset = FashionMNIST(\n",
    "    datasets_path,\n",
    "    train=False,\n",
    "    transform=transform\n",
    ")"
   ]
  },
  {
   "cell_type": "code",
   "execution_count": 7,
   "id": "eacf6677-7c32-4148-9cf4-bae2838c7ad2",
   "metadata": {},
   "outputs": [],
   "source": [
    "batch_size = 32"
   ]
  },
  {
   "cell_type": "code",
   "execution_count": 8,
   "id": "63181c3e-4d1e-404b-ae5a-a89eda0cc95b",
   "metadata": {},
   "outputs": [],
   "source": [
    "train_loader = DataLoader(dataset=train_dataset, shuffle=True, batch_size=batch_size)"
   ]
  },
  {
   "cell_type": "code",
   "execution_count": 9,
   "id": "1ab26629-136c-4649-a329-14c3db34e3d7",
   "metadata": {},
   "outputs": [],
   "source": [
    "validation_loader = DataLoader(dataset=validation_dataset, shuffle=False)"
   ]
  },
  {
   "cell_type": "code",
   "execution_count": 10,
   "id": "7efd2d1c-1b1f-48c1-8b72-ca35f295a065",
   "metadata": {},
   "outputs": [],
   "source": [
    "plt_size = 2"
   ]
  },
  {
   "cell_type": "code",
   "execution_count": 11,
   "id": "24f77fbf-f274-4108-9b17-0e471c2535d6",
   "metadata": {},
   "outputs": [],
   "source": [
    "plt_images = 8"
   ]
  },
  {
   "cell_type": "code",
   "execution_count": 12,
   "id": "7de6763a-a9dd-4b63-8870-1693089b7d5d",
   "metadata": {},
   "outputs": [
    {
     "data": {
      "image/png": "[encoded data removed]",
      "text/plain": [
       "<Figure size 1600x200 with 8 Axes>"
      ]
     },
     "metadata": {},
     "output_type": "display_data"
    }
   ],
   "source": [
    "for (X_train, y_train) in train_loader:\n",
    "    plt.figure(figsize=(plt_images * plt_size, plt_size))\n",
    "\n",
    "    for i in range(plt_images):\n",
    "        plt.subplot(1, plt_images, i + 1)\n",
    "        plt.axis('off')\n",
    "        plt.imshow(X_train[i, :, :, :].numpy().reshape(28, 28), cmap=\"gray_r\")\n",
    "        plt.title(f'Class: {y_train[i].item()}')\n",
    "\n",
    "    break"
   ]
  },
  {
   "cell_type": "code",
   "execution_count": null,
   "id": "a6e79f17-068e-4c2e-add0-7da34940ae9e",
   "metadata": {},
   "outputs": [],
   "source": []
  }
 ],
 "metadata": {
  "kernelspec": {
   "display_name": "Python 3 (ipykernel)",
   "language": "python",
   "name": "python3"
  },
  "language_info": {
   "codemirror_mode": {
    "name": "ipython",
    "version": 3
   },
   "file_extension": ".py",
   "mimetype": "text/x-python",
   "name": "python",
   "nbconvert_exporter": "python",
   "pygments_lexer": "ipython3",
   "version": "3.10.6"
  }
 },
 "nbformat": 4,
 "nbformat_minor": 5
}
